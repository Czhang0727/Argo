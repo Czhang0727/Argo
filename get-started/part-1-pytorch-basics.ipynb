{
 "cells": [
  {
   "cell_type": "markdown",
   "metadata": {},
   "source": [
    "## Tensor\n",
    "\n",
    "One of the most important concept for pytorch is \"Tensor\"\n",
    "You can simply consider it as \"arrays\", but more focusing on multi-dimension presentation."
   ]
  },
  {
   "cell_type": "code",
   "execution_count": 2,
   "metadata": {},
   "outputs": [
    {
     "name": "stdout",
     "output_type": "stream",
     "text": [
      "tensor([0., 0., 0., 0., 0.])\n",
      "tensor([[0., 0., 0., 0.],\n",
      "        [0., 0., 0., 0.],\n",
      "        [0., 0., 0., 0.],\n",
      "        [0., 0., 0., 0.]])\n",
      "tensor([[0.0290, 0.6128, 0.3270, 0.0847],\n",
      "        [0.3923, 0.8633, 0.8877, 0.4445],\n",
      "        [0.1759, 0.7887, 0.4738, 0.1944],\n",
      "        [0.7167, 0.7652, 0.4049, 0.4006]], dtype=torch.float64)\n",
      "tensor([5.5000, 3.0000])\n"
     ]
    }
   ],
   "source": [
    "# In this file, we will get started with pytorch\n",
    "\n",
    "import torch\n",
    "\n",
    "# create a tensor with 5 elements, in 1 dimension\n",
    "x = torch.empty(5)\n",
    "print(x)\n",
    "\n",
    "# create a tensor with multi-dimension tensor\n",
    "x = torch.empty(4,4)\n",
    "print(x)\n",
    "\n",
    "# random number normally used to initialize the tensor for initial weights\n",
    "x = torch.rand(4,4, dtype=torch.float64)\n",
    "print(x)\n",
    "\n",
    "# create a tensor from targetted data\n",
    "x = torch.tensor([5.5, 3])\n",
    "print(x)\n",
    "\n"
   ]
  },
  {
   "cell_type": "code",
   "execution_count": 9,
   "metadata": {},
   "outputs": [
    {
     "name": "stdout",
     "output_type": "stream",
     "text": [
      "tensor([2, 4, 6])\n",
      "tensor([1, 4, 9])\n",
      "tensor([1., 1., 1.])\n",
      "tensor(14)\n",
      "tensor(14)\n"
     ]
    }
   ],
   "source": [
    "# tensor could used like a matrix\n",
    "x = torch.tensor([1,2,3])\n",
    "y = torch.tensor([1,2,3])\n",
    "\n",
    "res = x.add(y)\n",
    "res = torch.add(x, y)\n",
    "print(x + y)\n",
    "\n",
    "print(x * y)\n",
    "print(x / y)\n",
    "\n",
    "# if we want to do matrix multiplication, we need to make sure the dimension is correct\n",
    "print(x @ y.T)\n",
    "print(x.matmul(y.T))\n",
    "\n"
   ]
  },
  {
   "cell_type": "code",
   "execution_count": 15,
   "metadata": {},
   "outputs": [
    {
     "name": "stdout",
     "output_type": "stream",
     "text": [
      "tensor([0.2098, 0.4942, 0.1114, 0.7673])\n",
      "0.7412450909614563\n"
     ]
    }
   ],
   "source": [
    "# we could also process normal array operation to the tensor\n",
    "\n",
    "x = torch.rand(4,4)\n",
    "print(x[:,0])\n",
    "print(x[2,2].item())"
   ]
  },
  {
   "cell_type": "code",
   "execution_count": 21,
   "metadata": {},
   "outputs": [
    {
     "name": "stdout",
     "output_type": "stream",
     "text": [
      "tensor([[0.0228, 0.3914, 0.1785, 0.5791],\n",
      "        [0.8497, 0.2389, 0.1361, 0.4238],\n",
      "        [0.8639, 0.7143, 0.2610, 0.2415],\n",
      "        [0.6532, 0.2462, 0.6692, 0.3121]]) torch.Size([4, 4])\n",
      "tensor([0.0228, 0.3914, 0.1785, 0.5791, 0.8497, 0.2389, 0.1361, 0.4238, 0.8639,\n",
      "        0.7143, 0.2610, 0.2415, 0.6532, 0.2462, 0.6692, 0.3121]) torch.Size([16])\n",
      "tensor([[0.5397, 0.8333, 0.0593, 0.7762],\n",
      "        [0.0049, 0.2483, 0.2726, 0.1005],\n",
      "        [0.7650, 0.1428, 0.7130, 0.7097],\n",
      "        [0.9834, 0.9542, 0.3014, 0.2690]])\n"
     ]
    }
   ],
   "source": [
    "# to cast a tensor to a different shape, we could use view, note we need give proper size where a*b*c... will still remains the same size\n",
    "\n",
    "x = torch.rand(4,4)\n",
    "print(x, x.size())\n",
    "\n",
    "x = x.view(-1)\n",
    "print(x, x.size())\n",
    "\n",
    "# we could also convert the tensor to numpy array\n",
    "x = torch.rand(4,4)\n",
    "print(x)\n",
    "\n",
    "\n",
    "\n"
   ]
  },
  {
   "cell_type": "code",
   "execution_count": 26,
   "metadata": {},
   "outputs": [
    {
     "name": "stdout",
     "output_type": "stream",
     "text": [
      "[2. 2. 2. 2. 2.]\n",
      "tensor([2., 2., 2., 2., 2.])\n",
      "[2. 2. 2. 2. 2.]\n"
     ]
    }
   ],
   "source": [
    "# here is an example how we can cast numpy array to tensor and vice versa\n",
    "import numpy as np\n",
    "\n",
    "a = np.ones(5, dtype=np.float32)\n",
    "b = torch.from_numpy(a)\n",
    "\n",
    "# if we change the numpy array, the tensor will also change\n",
    "a += 1\n",
    "print(a)\n",
    "print(b)\n",
    "print(b.numpy())"
   ]
  },
  {
   "cell_type": "markdown",
   "metadata": {},
   "source": [
    "# The last thing here is we need to target our computing resource\n",
    "If we dont define anything, it will fall into CPU bucket, which is pretty slow to compute"
   ]
  },
  {
   "cell_type": "code",
   "execution_count": 31,
   "metadata": {},
   "outputs": [
    {
     "name": "stdout",
     "output_type": "stream",
     "text": [
      "mps\n"
     ]
    },
    {
     "ename": "RuntimeError",
     "evalue": "Expected all tensors to be on the same device, but found at least two devices, mps:0 and cpu!",
     "output_type": "error",
     "traceback": [
      "\u001b[0;31m---------------------------------------------------------------------------\u001b[0m",
      "\u001b[0;31mRuntimeError\u001b[0m                              Traceback (most recent call last)",
      "Cell \u001b[0;32mIn[31], line 14\u001b[0m\n\u001b[1;32m     11\u001b[0m y \u001b[38;5;241m=\u001b[39m torch\u001b[38;5;241m.\u001b[39mrand(\u001b[38;5;241m4\u001b[39m,\u001b[38;5;241m4\u001b[39m)\n\u001b[1;32m     13\u001b[0m x \u001b[38;5;241m=\u001b[39m x\u001b[38;5;241m.\u001b[39mto(device)\n\u001b[0;32m---> 14\u001b[0m z \u001b[38;5;241m=\u001b[39m \u001b[43my\u001b[49m\u001b[43m \u001b[49m\u001b[38;5;241;43m+\u001b[39;49m\u001b[43m \u001b[49m\u001b[43mx\u001b[49m\n\u001b[1;32m     15\u001b[0m z\u001b[38;5;241m.\u001b[39mto(device, torch\u001b[38;5;241m.\u001b[39mdouble)\n\u001b[1;32m     16\u001b[0m \u001b[38;5;28mprint\u001b[39m(z)\n",
      "\u001b[0;31mRuntimeError\u001b[0m: Expected all tensors to be on the same device, but found at least two devices, mps:0 and cpu!"
     ]
    }
   ],
   "source": [
    "device = torch.device(\"cpu\")\n",
    "if torch.cuda.is_available():\n",
    "    device = torch.device(\"cuda\")\n",
    "elif torch.backends.mps.is_available():\n",
    "    device = torch.device(\"mps\")\n",
    "\n",
    "print(device)\n",
    "\n",
    "# the following code will return an error since they are run in different device\n",
    "x = torch.rand(4,4)\n",
    "y = torch.rand(4,4)\n",
    "\n",
    "x = x.to(device)\n",
    "z = y + x\n",
    "z.to(device, torch.double)\n",
    "print(z)\n",
    "\n",
    "\n"
   ]
  },
  {
   "cell_type": "code",
   "execution_count": null,
   "metadata": {},
   "outputs": [],
   "source": [
    "# bounus, we need to tell the pytorch to track the gradient\n",
    "\n",
    "x = torch.ones(5, requires_grad=True)\n",
    "\n",
    "\n"
   ]
  }
 ],
 "metadata": {
  "kernelspec": {
   "display_name": "ml_test",
   "language": "python",
   "name": "python3"
  },
  "language_info": {
   "codemirror_mode": {
    "name": "ipython",
    "version": 3
   },
   "file_extension": ".py",
   "mimetype": "text/x-python",
   "name": "python",
   "nbconvert_exporter": "python",
   "pygments_lexer": "ipython3",
   "version": "3.11.7"
  }
 },
 "nbformat": 4,
 "nbformat_minor": 2
}
