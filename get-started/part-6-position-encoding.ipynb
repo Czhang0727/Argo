{
 "cells": [
  {
   "cell_type": "markdown",
   "metadata": {},
   "source": [
    "## This note will focus on embedding\n",
    "\n",
    "In transformer, the final embedding will be token-embedding and position-embedding.\n",
    "\n",
    "For transformer, the encoding use specific process like:\n",
    "\n",
    "<img src=\"./assert/position-embedding.png\" width=\"50%\" alt=\"Position Embedding\">\n",
    "\n"
   ]
  },
  {
   "cell_type": "code",
   "execution_count": 3,
   "metadata": {},
   "outputs": [],
   "source": [
    "import torch\n",
    "import torch.nn as nn\n",
    "\n",
    "class PositionalEncoding(nn.Module):\n",
    "    def __init__(self, d_model, max_len=5000):\n",
    "        super().__init__()\n",
    "        self.d_model = d_model\n",
    "        self.max_len = max_len\n",
    "        \n",
    "        # initialize position encoding, shape: (max_len, d_model), all zeros\n",
    "        self.position_encoding = torch.zeros(max_len, d_model)\n",
    "        \n",
    "        # position: (max_len, 1), this will be position for each token\n",
    "        self.position = torch.arange(0, max_len, dtype=torch.float).unsqueeze(1)\n",
    "        \n",
    "        # i will be step_count we used to compute div_term\n",
    "        i = torch.arange(0, d_model, step=2, dtype=torch.float)\n",
    "        \n",
    "        # the calculation of div_term is based on the formula in the paper, check image above\n",
    "        # we apply a boardcast to the position matrix to get a matrix with shape (max_len, d_model / 2)\n",
    "        \n",
    "        # here is the example:\n",
    "        # position: [0, 1, 2, 3]\n",
    "        # i: [0, 2]\n",
    "        # div_term: [1, 100, 10000]\n",
    "        \n",
    "        # in order to calculate the div, we need transform position for boardcast.\n",
    "        # we will use the boardcast to fill the position_encoding matrix\n",
    "        # [0, 1, 2, 3] -> [0, 0, 0, 0]\n",
    "        # [0, 1, 2, 3] -> [1, 100, 10000, 1000000]\n",
    "        # [0, 1, 2, 3] -> [2, 200, 20000, 2000000]\n",
    "        # [0, 1, 2, 3] -> [3, 300, 30000, 3000000]\n",
    "        self.div_term = self.position / torch.pow(10000.0, 2 * i / d_model)\n",
    "        \n",
    "        # We will leverage boardcast to fill the position_encoding matrix\n",
    "        # the self.div_term is a matrix with shape (max_len, d_model/2)\n",
    "        # fill odd index with sin, even index with cos\n",
    "        self.position_encoding[:, 0::2] = torch.sin(self.div_term)\n",
    "        self.position_encoding[:, 1::2] = torch.cos(self.div_term)\n",
    "   \n",
    "    def forward(self, x):\n",
    "        _batch_size, seq_len = x.size()\n",
    "        seq_len = min(self.max_len, seq_len)\n",
    "        x = x + self.position_encoding[:seq_len, :]\n",
    "        return x\n",
    "        "
   ]
  }
 ],
 "metadata": {
  "kernelspec": {
   "display_name": "ml_test",
   "language": "python",
   "name": "python3"
  },
  "language_info": {
   "codemirror_mode": {
    "name": "ipython",
    "version": 3
   },
   "file_extension": ".py",
   "mimetype": "text/x-python",
   "name": "python",
   "nbconvert_exporter": "python",
   "pygments_lexer": "ipython3",
   "version": "3.11.7"
  }
 },
 "nbformat": 4,
 "nbformat_minor": 2
}
